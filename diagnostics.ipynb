{
 "cells": [
  {
   "cell_type": "markdown",
   "metadata": {},
   "source": [
    "## Diagnostics"
   ]
  },
  {
   "cell_type": "code",
   "execution_count": 1,
   "metadata": {
    "collapsed": false
   },
   "outputs": [],
   "source": [
    "%load_ext autoreload\n",
    "%autoreload 2\n",
    "\n",
    "import numpy as np\n",
    "import scipy.stats as ss\n",
    "\n",
    "import elfi\n",
    "\n",
    "import logging\n",
    "logging.basicConfig(level=logging.INFO)\n",
    "\n",
    "seed = 0"
   ]
  },
  {
   "cell_type": "markdown",
   "metadata": {},
   "source": [
    "### Summary-statistics Selection"
   ]
  },
  {
   "cell_type": "code",
   "execution_count": 2,
   "metadata": {
    "collapsed": true
   },
   "outputs": [],
   "source": [
    "from elfi.methods.diagnostics import TwoStageSelection"
   ]
  },
  {
   "cell_type": "markdown",
   "metadata": {},
   "source": [
    "ELFI implements the Two Stage Procedure proposed by Nunes & Balding (2010). The intention to run the Two Stage Procedure is to determine a well-performing summary-statistics combination. Briefly, the procedure's rationale can be summarised as follows:\n",
    "- First, the module computes or accepts the combinations of the candidate summary statistics;\n",
    "- In Stage 1, each summary-statistics combination is evaluated using the\n",
    "Minimum Entropy algorithm;\n",
    "- In Stage 2, the minimum-entropy combination is selected,\n",
    "and the 'closest' datasets are identified;\n",
    "- Further in Stage 2, for each summary-statistics combination,\n",
    "the mean root sum of squared errors (MRSSE) is calculated over all 'closest datasets',\n",
    "and the minimum-MRSSE combination is chosen as the one with the optimal performance."
   ]
  },
  {
   "cell_type": "markdown",
   "metadata": {},
   "source": [
    "#### Example 1: Summary-statistics selection for a 1-D Gaussian-noise model."
   ]
  },
  {
   "cell_type": "markdown",
   "metadata": {},
   "source": [
    "For the first example application, we define a Gaussian-noise model and three summary statistics, one of which is uninformative."
   ]
  },
  {
   "cell_type": "code",
   "execution_count": 3,
   "metadata": {
    "collapsed": false
   },
   "outputs": [],
   "source": [
    "def fn_gaussian_simulator(mu, sigma, n_obs=10, batch_size=1, random_state=None):\n",
    "    mu, sigma = np.atleast_1d(mu, sigma)\n",
    "    res = ss.norm.rvs(mu[:, None], sigma[:, None], size=(batch_size, n_obs), random_state=random_state)\n",
    "    return res\n",
    "\n",
    "def mean(y):\n",
    "    return np.mean(y, axis=1)\n",
    "\n",
    "def var(y):\n",
    "    return np.var(y, axis=1)\n",
    "\n",
    "def uninformative(y):\n",
    "    return np.ones(len(y))"
   ]
  },
  {
   "cell_type": "markdown",
   "metadata": {},
   "source": [
    "To carry the Two Stage procedure, we assess a list of summary statistics based on some initialised simulator."
   ]
  },
  {
   "cell_type": "code",
   "execution_count": 4,
   "metadata": {
    "collapsed": false
   },
   "outputs": [],
   "source": [
    "# Obtaining the observations.\n",
    "mean_obs = 1\n",
    "std_obs = 3\n",
    "y_obs = fn_gaussian_simulator(mean_obs, std_obs, random_state=np.random.RandomState(seed))\n",
    "\n",
    "# Initialising the priors.\n",
    "prior_mu = elfi.Prior('uniform', -2, 4, name='mu')\n",
    "prior_sigma = elfi.Prior('uniform', 0, 4, name='sigma')\n",
    "\n",
    "# Initialising the simulator.\n",
    "simulator_gaussian = elfi.Simulator(fn_gaussian_simulator, prior_mu, prior_sigma, observed=y_obs)\n",
    "\n",
    "# Initialising the list of assessed summary statistics.\n",
    "list_ss = [mean, var, uninformative]"
   ]
  },
  {
   "cell_type": "markdown",
   "metadata": {
    "collapsed": false
   },
   "source": [
    "Now, we are ready to initialise the Two Stage Selection. Note that we can choose a distance metric based on which the summary statistics will be evaluated."
   ]
  },
  {
   "cell_type": "code",
   "execution_count": 5,
   "metadata": {
    "collapsed": false
   },
   "outputs": [],
   "source": [
    "diagnostics = TwoStageSelection(simulator_gaussian, 'euclidean', list_ss=list_ss, seed=seed)"
   ]
  },
  {
   "cell_type": "markdown",
   "metadata": {},
   "source": [
    "In this Two Stage procedure's implementation, we can choose the number of simulations `n_sim` obtained for every assessed summary-statistics combination and the number of such accepted simulations `n_acc`.\n",
    "\n",
    "Note that the rationale of the Two Stage procedure is based on finding the combination with the minimum entropy (Stage 1) and then finding the collection which shows the minimum mean sum of squared error (MRRSE) based on the parameters corresponding to the `n_closest` datasets of the minimum-entropy combination (Stage 2)."
   ]
  },
  {
   "cell_type": "code",
   "execution_count": 6,
   "metadata": {
    "collapsed": false
   },
   "outputs": [
    {
     "name": "stderr",
     "output_type": "stream",
     "text": [
      "INFO:elfi.methods.diagnostics:Combination ['mean'] shows the entropy of 1.253046\n",
      "INFO:elfi.methods.diagnostics:Combination ['var'] shows the entropy of 1.696182\n",
      "INFO:elfi.methods.diagnostics:Combination ['uninformative'] shows the entropy of 2.480023\n",
      "INFO:elfi.methods.diagnostics:Combination ['mean', 'var'] shows the entropy of 1.509311\n",
      "INFO:elfi.methods.diagnostics:Combination ['mean', 'uninformative'] shows the entropy of 1.253046\n",
      "INFO:elfi.methods.diagnostics:Combination ['var', 'uninformative'] shows the entropy of 1.696182\n",
      "INFO:elfi.methods.diagnostics:Combination ['mean', 'var', 'uninformative'] shows the entropy of 1.509311\n",
      "INFO:elfi.methods.diagnostics:\n",
      "The minimum entropy of 1.253046 was found in ['mean'].\n",
      "\n",
      "INFO:elfi.methods.diagnostics:Combination ['mean'] shows the MRSSE of 50.742620\n",
      "INFO:elfi.methods.diagnostics:Combination ['var'] shows the MRSSE of 67.668700\n",
      "INFO:elfi.methods.diagnostics:Combination ['uninformative'] shows the MRSSE of 81.896040\n",
      "INFO:elfi.methods.diagnostics:Combination ['mean', 'var'] shows the MRSSE of 44.514839\n",
      "INFO:elfi.methods.diagnostics:Combination ['mean', 'uninformative'] shows the MRSSE of 50.742620\n",
      "INFO:elfi.methods.diagnostics:Combination ['var', 'uninformative'] shows the MRSSE of 67.668700\n",
      "INFO:elfi.methods.diagnostics:Combination ['mean', 'var', 'uninformative'] shows the MRSSE of 44.514839\n",
      "INFO:elfi.methods.diagnostics:\n",
      "The minimum MRSSE of 44.514839 was found in ['mean', 'var'].\n"
     ]
    },
    {
     "data": {
      "text/plain": [
       "(<function __main__.mean>, <function __main__.var>)"
      ]
     },
     "execution_count": 6,
     "metadata": {},
     "output_type": "execute_result"
    }
   ],
   "source": [
    "diagnostics.run(n_sim=10000, n_acc=1000, n_closest=100, batch_size=10)"
   ]
  },
  {
   "cell_type": "markdown",
   "metadata": {},
   "source": [
    "#### Example 2: Summary-statistics selection for the MA2 model."
   ]
  },
  {
   "cell_type": "markdown",
   "metadata": {},
   "source": [
    "The second example is ran on the MA2 example model, which is introduced in `tutorial.ipynb`. We evaluate two autocovariance summary statistics: one with `lag=1`, another with `lag=3`, and the mean summary statistic. The preparation for the diagnostics given below is identical to the one performed in Example 1."
   ]
  },
  {
   "cell_type": "code",
   "execution_count": 7,
   "metadata": {
    "collapsed": false
   },
   "outputs": [],
   "source": [
    "elfi.new_model()\n",
    "\n",
    "# Defining the simulator.\n",
    "def fn_MA2_simulator(t1, t2, n_obs=100, batch_size=1, random_state=None):\n",
    "    # Make inputs 2d arrays for numpy broadcasting with w\n",
    "    t1 = np.asanyarray(t1).reshape((-1, 1))\n",
    "    t2 = np.asanyarray(t2).reshape((-1, 1))\n",
    "    random_state = random_state or np.random\n",
    "\n",
    "    w = random_state.randn(batch_size, n_obs+2)  # i.i.d. sequence ~ N(0,1)\n",
    "    x = w[:, 2:] + t1*w[:, 1:-1] + t2*w[:, :-2]\n",
    "    return x\n",
    "\n",
    "# Defining the priors.\n",
    "class CustomPrior_t1(elfi.Distribution):\n",
    "    def rvs(b, size=1, random_state=None):\n",
    "        u = ss.uniform.rvs(loc=0, scale=1, size=size, random_state=random_state)\n",
    "        t1 = np.where(u<0.5, np.sqrt(2.*u)*b-b, -np.sqrt(2.*(1.-u))*b+b)\n",
    "        return t1\n",
    "class CustomPrior_t2(elfi.Distribution):\n",
    "    def rvs(t1, a, size=1, random_state=None):\n",
    "        locs = np.maximum(-a-t1, t1-a)\n",
    "        scales = a - locs\n",
    "        t2 = ss.uniform.rvs(loc=locs, scale=scales, size=size, random_state=random_state)\n",
    "        return t2\n",
    "    \n",
    "# Defining the assessed summary statistics.\n",
    "def autocov(y, lag=1):\n",
    "    C = np.mean(y[:,lag:] * y[:,:-lag], axis=1)\n",
    "    return C\n",
    "def autocov_2(y, lag=2):\n",
    "    C = np.mean(y[:,lag:] * y[:,:-lag], axis=1)\n",
    "    return C\n",
    "def mean(y):\n",
    "    return np.mean(y, axis=1)\n",
    "\n",
    "# Obtaining the observations.\n",
    "t1_obs = .6\n",
    "t2_obs = .2\n",
    "y_obs = fn_MA2_simulator(t1_obs, t2_obs, random_state=np.random.RandomState(seed))\n",
    "\n",
    "# Initialising the priors.\n",
    "prior_t1 = elfi.Prior(CustomPrior_t1, 2, name='prior_t1')\n",
    "prior_t2 = elfi.Prior(CustomPrior_t2, prior_t1, 1, name='prior_t2')\n",
    "\n",
    "# Initialising the simulator.\n",
    "simulator_MA2 = elfi.Simulator(fn_MA2_simulator, prior_t1, prior_t2, observed=y_obs)\n",
    "\n",
    "# Initialising the list of assessed summary statistics.\n",
    "list_ss = [autocov, autocov_2, mean]"
   ]
  },
  {
   "cell_type": "markdown",
   "metadata": {},
   "source": [
    "After the preparation, we can executing the diagnostics as follows:"
   ]
  },
  {
   "cell_type": "code",
   "execution_count": 8,
   "metadata": {
    "collapsed": false
   },
   "outputs": [
    {
     "name": "stderr",
     "output_type": "stream",
     "text": [
      "INFO:elfi.methods.diagnostics:Combination ['autocov'] shows the entropy of -0.440099\n",
      "INFO:elfi.methods.diagnostics:Combination ['autocov_2'] shows the entropy of 0.612220\n",
      "INFO:elfi.methods.diagnostics:Combination ['mean'] shows the entropy of 0.929530\n",
      "INFO:elfi.methods.diagnostics:Combination ['autocov', 'autocov_2'] shows the entropy of -0.383608\n",
      "INFO:elfi.methods.diagnostics:Combination ['autocov', 'mean'] shows the entropy of -0.391062\n",
      "INFO:elfi.methods.diagnostics:Combination ['autocov_2', 'mean'] shows the entropy of 0.575490\n",
      "INFO:elfi.methods.diagnostics:Combination ['autocov', 'autocov_2', 'mean'] shows the entropy of -0.372696\n",
      "INFO:elfi.methods.diagnostics:\n",
      "The minimum entropy of -0.440099 was found in ['autocov'].\n",
      "\n",
      "INFO:elfi.methods.diagnostics:Combination ['autocov'] shows the MRSSE of 17.161245\n",
      "INFO:elfi.methods.diagnostics:Combination ['autocov_2'] shows the MRSSE of 37.278022\n",
      "INFO:elfi.methods.diagnostics:Combination ['mean'] shows the MRSSE of 35.158579\n",
      "INFO:elfi.methods.diagnostics:Combination ['autocov', 'autocov_2'] shows the MRSSE of 16.336669\n",
      "INFO:elfi.methods.diagnostics:Combination ['autocov', 'mean'] shows the MRSSE of 17.178932\n",
      "INFO:elfi.methods.diagnostics:Combination ['autocov_2', 'mean'] shows the MRSSE of 41.320506\n",
      "INFO:elfi.methods.diagnostics:Combination ['autocov', 'autocov_2', 'mean'] shows the MRSSE of 16.340803\n",
      "INFO:elfi.methods.diagnostics:\n",
      "The minimum MRSSE of 16.336669 was found in ['autocov', 'autocov_2'].\n"
     ]
    },
    {
     "data": {
      "text/plain": [
       "(<function __main__.autocov>, <function __main__.autocov_2>)"
      ]
     },
     "execution_count": 8,
     "metadata": {},
     "output_type": "execute_result"
    }
   ],
   "source": [
    "diagnostics = TwoStageSelection(simulator_MA2, 'euclidean', list_ss=list_ss, seed=seed)\n",
    "diagnostics.run(n_sim=10000, n_acc=1000, n_closest=100, batch_size=10)"
   ]
  },
  {
   "cell_type": "code",
   "execution_count": null,
   "metadata": {
    "collapsed": false
   },
   "outputs": [],
   "source": []
  }
 ],
 "metadata": {
  "kernelspec": {
   "display_name": "elfi",
   "language": "python",
   "name": "elfi"
  },
  "language_info": {
   "codemirror_mode": {
    "name": "ipython",
    "version": 3
   },
   "file_extension": ".py",
   "mimetype": "text/x-python",
   "name": "python",
   "nbconvert_exporter": "python",
   "pygments_lexer": "ipython3",
   "version": "3.6.2"
  }
 },
 "nbformat": 4,
 "nbformat_minor": 2
}
