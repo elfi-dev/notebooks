{
 "cells": [
  {
   "cell_type": "markdown",
   "metadata": {},
   "source": [
    "This tutorial contains some important advices for considering when you model a custom DAG.\n",
    "\n",
    "We will build step-by-step a naive model, underlying important comments for each part.\n",
    "\n",
    "---\n",
    "\n",
    "The model is the following:\n",
    "\n",
    "* `th1` is a vector of `size_1` independent variables drawn from a uniform in `[-a, a]`\n",
    "* `th2` is a vector of `size_2` independent variables drawn from a uniform in `[-b, b]`\n",
    "* simulator just adds some uniform noise in `[-0.2,0.2]` at each variable of the vectors `th1` and `th2`\n",
    "```\n",
    "def fn(th1, th2, batch_size, random_state):\n",
    "    x = np.concatenate((th1, th2), -1)\n",
    "    size = x.shape[1]\n",
    "    for i in range(size):\n",
    "        x += ss.uniform.rvs(loc=-0.2, scale=.4)\n",
    "    return x\n",
    "```\n",
    "* the observed values is a vector of zeros `x0 = np.zeros((1,size_1+size_2))`\n",
    "* `sum1` computes the mean of simulator's outcome\n",
    "* `sum2` computes the sum of simulator's outcome\n",
    "* `d` is the euclidean distance between the summary statistics\n",
    "\n",
    "---\n",
    "\n",
    "The model will be build incrementally, using the four basic modelling tools of `elfi`:\n",
    "\n",
    "* `elfi.Prior`\n",
    "* `elfi.Simulator`\n",
    "* `elfi.Summary`\n",
    "* `elfi.Distance`"
   ]
  },
  {
   "cell_type": "code",
   "execution_count": 61,
   "metadata": {},
   "outputs": [],
   "source": [
    "import scipy.stats as ss\n",
    "import numpy as np\n",
    "import elfi"
   ]
  },
  {
   "cell_type": "markdown",
   "metadata": {},
   "source": [
    "### Prior\n",
    "\n",
    "* Prior definition `elfi.Prior(distribution, *params, size=None, **kwargs)`\n",
    "\n",
    "* `distribution` can be any class that implements an funtion with the following signature `rvs(*params, size=None, **kwargs)`\n",
    "\n",
    "* an easier choice is to pass a string or an object from `scipy.stats`"
   ]
  },
  {
   "cell_type": "markdown",
   "metadata": {},
   "source": [
    "#### Prior parameter `*params`\n",
    "\n",
    "* Parameters `*params` of `elfi.Prior()` are passed to `params` of `rvs()` when `elfi.Prior`is constructed\n",
    "\n",
    "In the following snippet we create the prior class once and we create two different objects passing different parameter `lim`"
   ]
  },
  {
   "cell_type": "code",
   "execution_count": 62,
   "metadata": {},
   "outputs": [
    {
     "name": "stdout",
     "output_type": "stream",
     "text": [
      "Parameters th1\n",
      "lim:[-1, 1]\n",
      "Parameters th2\n",
      "lim:[-2, 2]\n"
     ]
    }
   ],
   "source": [
    "class prior:\n",
    "    def rvs(self, lim, size=None, random_state=None):\n",
    "        print(\"lim:[%d, %d]\" % (-lim,lim))\n",
    "        return ss.uniform.rvs(loc=-lim, scale=2*lim, size=size, random_state=random_state)\n",
    "\n",
    "m = elfi.ElfiModel()\n",
    "th1 = elfi.Prior(prior(), 1, model=m, name='th1')\n",
    "th2 = elfi.Prior(prior(), 2, model=m, name='th2')\n",
    "\n",
    "print(\"Parameters th1\")\n",
    "output = m.generate(outputs=['th1'])\n",
    "\n",
    "print(\"Parameters th2\")\n",
    "output = m.generate(outputs=['th2'])"
   ]
  },
  {
   "cell_type": "markdown",
   "metadata": {},
   "source": [
    "#### Prior parameter `size`\n",
    "\n",
    "* Parameter `size` of `elfi.Prior()` corresponds to the dimension of the prior distribution\n",
    "\n",
    "* By default, it is converted to `(1, size)` before passed as the `size` of `rvs()`. The added dimension is the `batch_size`.\n",
    "* If `batch_size` is passed explicitly at `m.generate()` then `size` becomes `(batch_size, size)` before passed to `rvs()`. \n",
    "* If parameter `size` is not defined at `elfi.Prior()` creation, then rvs produces output of shape `(1, )`. If `batch_size` is explicitly defined, then `rvs` outputs tensor of shape `(batch_size,)`\n",
    "\n",
    "As we said, we want `th1` to be of `size_1` and `th2` of `size_2`. We will use the `size` parameter of `elfi.Prior()` to achieve that."
   ]
  },
  {
   "cell_type": "code",
   "execution_count": 63,
   "metadata": {},
   "outputs": [
    {
     "name": "stdout",
     "output_type": "stream",
     "text": [
      "shapes (without batch_size)\n",
      "th1:  (1, 2)\n",
      "th2:  (1, 3)\n",
      "\n",
      "\n",
      "shapes (with batch_size)\n",
      "th1:  (4, 2)\n",
      "th2:  (4, 3)\n"
     ]
    }
   ],
   "source": [
    "class prior:\n",
    "    def rvs(self, lim, size=None, random_state=None):\n",
    "        return ss.uniform.rvs(loc=-lim, scale=2*lim, size=size, random_state=random_state)\n",
    "\n",
    "# parameters\n",
    "size_1 = 2\n",
    "size_2 = 3\n",
    "batch_size = 4\n",
    "seed = 123\n",
    "\n",
    "# model definition\n",
    "m = elfi.ElfiModel()\n",
    "th1 = elfi.Prior(prior(), 1, size=size_1, model=m, name='th1')\n",
    "th2 = elfi.Prior(prior(), 2, size=size_2, model=m, name='th2')\n",
    "\n",
    "# without batch_size passed \n",
    "output = m.generate(outputs=['th1', 'th2'])\n",
    "print(\"shapes (without batch_size)\")\n",
    "print(\"th1: \", output['th1'].shape)\n",
    "print(\"th2: \", output['th2'].shape)\n",
    "\n",
    "print(\"\\n\")\n",
    "\n",
    "# with batch_size passed\n",
    "output = m.generate(outputs=['th1', 'th2'], batch_size=batch_size)\n",
    "print(\"shapes (with batch_size)\")\n",
    "print(\"th1: \", output['th1'].shape)\n",
    "print(\"th2: \", output['th2'].shape)"
   ]
  },
  {
   "cell_type": "markdown",
   "metadata": {},
   "source": [
    "##### Prior  parameter `random_state`\n",
    "\n",
    "* It is defined under the hood when `m.generate()` is called\n",
    "* If seed is set (e.g. `m.generate(seed=123)`) the `random_state` is consistent between different runs\n",
    "\n",
    "In the following snippet, we see that samples are consistent when `seed` is passed as parameter."
   ]
  },
  {
   "cell_type": "code",
   "execution_count": 64,
   "metadata": {},
   "outputs": [
    {
     "name": "stdout",
     "output_type": "stream",
     "text": [
      "First run\n",
      "th1:  [[ 0.45606018  0.18088245]\n",
      " [-0.52569846  0.39917864]\n",
      " [ 0.73217565 -0.29982736]\n",
      " [-0.25652047  0.11882121]]\n",
      "th2:  [[-0.65495866  0.48015155  1.25584115]\n",
      " [-1.10834104  0.72773289 -1.58440544]\n",
      " [ 0.35912361  0.70650383  1.64151854]\n",
      " [ 0.50744294 -0.09357122  1.97178184]]\n",
      "\n",
      "\n",
      "Second run\n",
      "th1:  [[ 0.45606018  0.18088245]\n",
      " [-0.52569846  0.39917864]\n",
      " [ 0.73217565 -0.29982736]\n",
      " [-0.25652047  0.11882121]]\n",
      "th2:  [[-0.65495866  0.48015155  1.25584115]\n",
      " [-1.10834104  0.72773289 -1.58440544]\n",
      " [ 0.35912361  0.70650383  1.64151854]\n",
      " [ 0.50744294 -0.09357122  1.97178184]]\n"
     ]
    }
   ],
   "source": [
    "print(\"First run\")\n",
    "output = m.generate(outputs=['th1', 'th2'], batch_size=batch_size, seed=seed)\n",
    "print(\"th1: \", output['th1'])\n",
    "print(\"th2: \", output['th2'])\n",
    "\n",
    "print(\"\\n\")\n",
    "\n",
    "print(\"Second run\")\n",
    "output = m.generate(outputs=['th1', 'th2'], batch_size=batch_size, seed=seed)\n",
    "print(\"th1: \", output['th1'])\n",
    "print(\"th2: \", output['th2'])"
   ]
  },
  {
   "cell_type": "markdown",
   "metadata": {},
   "source": [
    "##### Prior parameters `**kwargs`\n",
    "\n",
    "Can be something in the following list:\n",
    "* `name=<node name>`, node's name, if not defined the name is created automatically\n",
    "* `model=elfi.ElfiModel()` if set (as in the examples above) the node is attached to the specific model"
   ]
  },
  {
   "cell_type": "markdown",
   "metadata": {},
   "source": [
    "## Simulator\n",
    "\n",
    "`elfi.Simulator(fn, *params, **kwargs)`\n",
    "\n",
    "`fn` can be any function following the signature `fn(*params, batch_size, random_state)`\n",
    "\n",
    "#### Parameter `*params`\n",
    "\n",
    "* `*params` of `elfi.Simulator` are passed unchanged to `*params` of `fn`\n",
    "* Normally, as `*params` we pass the `elfi.Prior` nodes and maybe some other hyperparameters. \n",
    "* `*params` are the calls to `prior.rvs()`, so they are `numpy.arrays` of shape `(batch_size, size)`, where `size` was defined at prior definition\n",
    "\n",
    "#### Parameters `batch_size`, `random_state`\n",
    "\n",
    "* They behave exactly as in the case of `elfi.Prior`; they are set at `m.generate()`\n",
    "\n",
    "#### Parameters **kwargs \n",
    "\n",
    "* `name=<node name>`, node's name, if not defined the name is created automatically\n",
    "* `model=elfi.ElfiModel()` if set (as in the examples above) the node is attached to the specific model\n",
    "* `observed=<np.array>`, array with observations must be of `shape=(N,F)`"
   ]
  },
  {
   "cell_type": "code",
   "execution_count": 65,
   "metadata": {},
   "outputs": [
    {
     "name": "stdout",
     "output_type": "stream",
     "text": [
      "Shapes of ouputs\n",
      "th1:      (4, 2)\n",
      "th2     : (4, 3)\n",
      "sim     : (4, 5)\n",
      "observed: (1, 5)\n"
     ]
    }
   ],
   "source": [
    "def fn(th1, th2, batch_size, random_state):\n",
    "    x = np.concatenate((th1, th2), -1)\n",
    "    size = x.shape[1]\n",
    "    for i in range(size):\n",
    "        x += ss.uniform.rvs(loc=-0.2, scale=.4)\n",
    "    return x\n",
    "\n",
    "class prior:\n",
    "    def rvs(self, lim, size=None, random_state=None):\n",
    "        return ss.uniform.rvs(loc=-lim, scale=2*lim, size=size, random_state=random_state)\n",
    "\n",
    "# parameters\n",
    "size_1 = 2\n",
    "size_2 = 3\n",
    "batch_size = 4\n",
    "seed = 123\n",
    "\n",
    "# observation\n",
    "observed = np.zeros((1, size_1 + size_2))\n",
    "\n",
    "# model\n",
    "m = elfi.ElfiModel()\n",
    "th1 = elfi.Prior(prior(), 1, size=size_1, model=m, name='th1')\n",
    "th2 = elfi.Prior(prior(), 2, size=size_2, model=m, name='th2')\n",
    "sim = elfi.Simulator(fn, th1, th2, name=\"sim\", model=m, observed=observed)\n",
    "\n",
    "# run model\n",
    "output = m.generate(outputs=['th1', 'th2', 'sim'], batch_size=batch_size, seed=seed)\n",
    "\n",
    "# outputs\n",
    "print(\"Shapes of ouputs\")\n",
    "print(\"th1:     \", output['th1'].shape)\n",
    "print(\"th2     :\", output['th2'].shape)\n",
    "print(\"sim     :\", output['sim'].shape)\n",
    "print(\"observed:\", observed.shape)"
   ]
  },
  {
   "cell_type": "markdown",
   "metadata": {},
   "source": [
    "### Summary Statistics"
   ]
  },
  {
   "cell_type": "code",
   "execution_count": 66,
   "metadata": {},
   "outputs": [
    {
     "name": "stdout",
     "output_type": "stream",
     "text": [
      "Shapes of ouputs\n",
      "th1:      (4, 2)\n",
      "th2     : (4, 3)\n",
      "sim     : (4, 5)\n",
      "observed: (1, 5)\n",
      "sum1    : (4,)\n",
      "sum2    : (4,)\n"
     ]
    }
   ],
   "source": [
    "class prior:\n",
    "    def rvs(self, lim, size=None, random_state=None):\n",
    "        return ss.uniform.rvs(loc=-lim, scale=2*lim, size=size, random_state=random_state)\n",
    "\n",
    "\n",
    "def fn(th1, th2, batch_size, random_state):\n",
    "    x = np.concatenate((th1, th2), -1)\n",
    "    size = x.shape[1]\n",
    "    for i in range(size):\n",
    "        x += ss.uniform.rvs(loc=-0.2, scale=.4)\n",
    "    return x\n",
    "\n",
    "def sum1(x):\n",
    "    return np.mean(x, 1)\n",
    "\n",
    "def sum2(x):\n",
    "    return np.sum(x, 1)\n",
    "\n",
    "\n",
    "# parameters\n",
    "size_1 = 2\n",
    "size_2 = 3\n",
    "batch_size = 4\n",
    "seed = 123\n",
    "\n",
    "# observation\n",
    "observed = np.zeros((1, size_1 + size_2))\n",
    "\n",
    "# model\n",
    "m = elfi.ElfiModel()\n",
    "th1 = elfi.Prior(prior(), 1, size=size_1, model=m, name='th1')\n",
    "th2 = elfi.Prior(prior(), 2, size=size_2, model=m, name='th2')\n",
    "sim = elfi.Simulator(fn, th1, th2, name=\"sim\", model=m, observed=observed)\n",
    "sum1 = elfi.Summary(sum1, sim, model=m, name='sum1')\n",
    "sum2 = elfi.Summary(sum2, sim, model=m, name='sum2')\n",
    "\n",
    "# run model\n",
    "output = m.generate(outputs=['th1', 'th2', 'sim', 'sum1', 'sum2'], batch_size=batch_size, seed=seed)\n",
    "\n",
    "# outputs\n",
    "print(\"Shapes of ouputs\")\n",
    "print(\"th1:     \", output['th1'].shape)\n",
    "print(\"th2     :\", output['th2'].shape)\n",
    "print(\"sim     :\", output['sim'].shape)\n",
    "print(\"observed:\", observed.shape)\n",
    "print(\"sum1    :\", output['sum1'].shape)\n",
    "print(\"sum2    :\", output['sum2'].shape)"
   ]
  },
  {
   "cell_type": "markdown",
   "metadata": {},
   "source": [
    "###  Distance\n",
    "\n",
    "* x shape: `(batch_size, F)`\n",
    "* y shape: shape of observation must be `(1, F)`\n",
    "\n",
    "The distance is be computed row-wise\n"
   ]
  },
  {
   "cell_type": "code",
   "execution_count": 67,
   "metadata": {},
   "outputs": [
    {
     "name": "stdout",
     "output_type": "stream",
     "text": [
      "Shapes of ouputs\n",
      "th1:      (4, 2)\n",
      "th2     : (4, 3)\n",
      "sim     : (4, 5)\n",
      "observed: (1, 5)\n",
      "sum1    : (4,)\n",
      "sum2    : (4,)\n",
      "d       : (4,)\n"
     ]
    }
   ],
   "source": [
    "class prior:\n",
    "    def rvs(self, lim, size=None, random_state=None):\n",
    "        return ss.uniform.rvs(loc=-lim, scale=2*lim, size=size, random_state=random_state)\n",
    "\n",
    "\n",
    "def fn(th1, th2, batch_size, random_state):\n",
    "    x = np.concatenate((th1, th2), -1)\n",
    "    size = x.shape[1]\n",
    "    for i in range(size):\n",
    "        x += ss.uniform.rvs(loc=-0.2, scale=.4)\n",
    "    return x\n",
    "\n",
    "def sum1(x):\n",
    "    return np.mean(x, 1)\n",
    "\n",
    "def sum2(x):\n",
    "    return np.sum(x, 1)\n",
    "\n",
    "\n",
    "# parameters\n",
    "size_1 = 2\n",
    "size_2 = 3\n",
    "batch_size = 4\n",
    "seed = 123\n",
    "\n",
    "# observation\n",
    "observed = np.zeros((1, size_1 + size_2))\n",
    "\n",
    "# model\n",
    "m = elfi.ElfiModel()\n",
    "th1 = elfi.Prior(prior(), 1, size=size_1, model=m, name='th1')\n",
    "th2 = elfi.Prior(prior(), 2, size=size_2, model=m, name='th2')\n",
    "sim = elfi.Simulator(fn, th1, th2, name=\"sim\", model=m, observed=observed)\n",
    "sum1 = elfi.Summary(sum1, sim, model=m, name='sum1')\n",
    "sum2 = elfi.Summary(sum2, sim, model=m, name='sum2')\n",
    "d = elfi.Distance('euclidean', sum1, sum2, model=m, name=\"d\")\n",
    "\n",
    "# run model\n",
    "output = m.generate(outputs=['th1', 'th2', 'sim', 'sum1', 'sum2', 'd'], batch_size=batch_size, seed=seed)\n",
    "\n",
    "# outputs\n",
    "print(\"Shapes of ouputs\")\n",
    "print(\"th1:     \", output['th1'].shape)\n",
    "print(\"th2     :\", output['th2'].shape)\n",
    "print(\"sim     :\", output['sim'].shape)\n",
    "print(\"observed:\", observed.shape)\n",
    "print(\"sum1    :\", output['sum1'].shape)\n",
    "print(\"sum2    :\", output['sum2'].shape)\n",
    "print(\"d       :\", output['d'].shape)"
   ]
  },
  {
   "cell_type": "markdown",
   "metadata": {},
   "source": [
    "### shapes of all tensors\n",
    "\n",
    "* prior_1\n",
    "  * output: `(batch_size, D1)`, `D1 = size_1` parameter of `elfi.Prior`\n",
    "* prior_2\n",
    "  * output: `(batch_size, D2)`, `D2 = size_1` parameter of `elfi.Prior`\n",
    "* simulator:\n",
    "  * input: `(batch_size, D1), (batch_size, D2)`\n",
    "  * output: `(batch_size, F)`\n",
    "* observed:\n",
    "  * is: `(1, F)` \n",
    "* summary_1\n",
    "  * input: \n",
    "    * from simulator: `(batch_size, F)`\n",
    "    * from observation: `(1, F)`\n",
    "  * output: `(batch_size, F1)`\n",
    "* summary_2\n",
    "  * input: \n",
    "    * from simulator: `(batch_size, F)`\n",
    "    * from observation: `(1, F)`\n",
    "  * output: `(batch_size, F2)`\n",
    "* dist \n",
    "  * input: \n",
    "    * from simulator: `(batch_size, F1 + F2)`\n",
    "    * from observation: `(1, F1 + F2)`\n",
    "  * output: `(batch_size)`\n"
   ]
  },
  {
   "cell_type": "code",
   "execution_count": 68,
   "metadata": {},
   "outputs": [
    {
     "data": {
      "image/svg+xml": [
       "<?xml version=\"1.0\" encoding=\"UTF-8\" standalone=\"no\"?>\n",
       "<!DOCTYPE svg PUBLIC \"-//W3C//DTD SVG 1.1//EN\"\n",
       " \"http://www.w3.org/Graphics/SVG/1.1/DTD/svg11.dtd\">\n",
       "<!-- Generated by graphviz version 2.40.1 (20161225.0304)\n",
       " -->\n",
       "<!-- Title: %3 Pages: 1 -->\n",
       "<svg width=\"148pt\" height=\"305pt\"\n",
       " viewBox=\"0.00 0.00 148.09 305.39\" xmlns=\"http://www.w3.org/2000/svg\" xmlns:xlink=\"http://www.w3.org/1999/xlink\">\n",
       "<g id=\"graph0\" class=\"graph\" transform=\"scale(1 1) rotate(0) translate(4 301.3864)\">\n",
       "<title>%3</title>\n",
       "<polygon fill=\"#ffffff\" stroke=\"transparent\" points=\"-4,4 -4,-301.3864 144.0946,-301.3864 144.0946,4 -4,4\"/>\n",
       "<!-- th1 -->\n",
       "<g id=\"node1\" class=\"node\">\n",
       "<title>th1</title>\n",
       "<ellipse fill=\"none\" stroke=\"#000000\" cx=\"38.5473\" cy=\"-275.2884\" rx=\"22.1965\" ry=\"22.1965\"/>\n",
       "<text text-anchor=\"middle\" x=\"38.5473\" y=\"-271.5884\" font-family=\"Times,serif\" font-size=\"14.00\" fill=\"#000000\">th1</text>\n",
       "</g>\n",
       "<!-- sim -->\n",
       "<g id=\"node3\" class=\"node\">\n",
       "<title>sim</title>\n",
       "<ellipse fill=\"none\" stroke=\"#000000\" cx=\"69.5473\" cy=\"-193.1424\" rx=\"24.0958\" ry=\"24.0958\"/>\n",
       "<text text-anchor=\"middle\" x=\"69.5473\" y=\"-189.4424\" font-family=\"Times,serif\" font-size=\"14.00\" fill=\"#000000\">sim</text>\n",
       "</g>\n",
       "<!-- th1&#45;&gt;sim -->\n",
       "<g id=\"edge1\" class=\"edge\">\n",
       "<title>th1&#45;&gt;sim</title>\n",
       "<path fill=\"none\" stroke=\"#000000\" d=\"M46.3699,-254.5595C49.7061,-245.719 53.6771,-235.1963 57.3815,-225.3803\"/>\n",
       "<polygon fill=\"#000000\" stroke=\"#000000\" points=\"60.7073,-226.4801 60.9635,-215.8883 54.1581,-224.0085 60.7073,-226.4801\"/>\n",
       "</g>\n",
       "<!-- th2 -->\n",
       "<g id=\"node2\" class=\"node\">\n",
       "<title>th2</title>\n",
       "<ellipse fill=\"none\" stroke=\"#000000\" cx=\"100.5473\" cy=\"-275.2884\" rx=\"22.1965\" ry=\"22.1965\"/>\n",
       "<text text-anchor=\"middle\" x=\"100.5473\" y=\"-271.5884\" font-family=\"Times,serif\" font-size=\"14.00\" fill=\"#000000\">th2</text>\n",
       "</g>\n",
       "<!-- th2&#45;&gt;sim -->\n",
       "<g id=\"edge2\" class=\"edge\">\n",
       "<title>th2&#45;&gt;sim</title>\n",
       "<path fill=\"none\" stroke=\"#000000\" d=\"M92.7247,-254.5595C89.3885,-245.719 85.4175,-235.1963 81.7131,-225.3803\"/>\n",
       "<polygon fill=\"#000000\" stroke=\"#000000\" points=\"84.9364,-224.0085 78.1311,-215.8883 78.3873,-226.4801 84.9364,-224.0085\"/>\n",
       "</g>\n",
       "<!-- sum1 -->\n",
       "<g id=\"node4\" class=\"node\">\n",
       "<title>sum1</title>\n",
       "<ellipse fill=\"none\" stroke=\"#000000\" cx=\"30.5473\" cy=\"-102.5473\" rx=\"30.5947\" ry=\"30.5947\"/>\n",
       "<text text-anchor=\"middle\" x=\"30.5473\" y=\"-98.8473\" font-family=\"Times,serif\" font-size=\"14.00\" fill=\"#000000\">sum1</text>\n",
       "</g>\n",
       "<!-- sim&#45;&gt;sum1 -->\n",
       "<g id=\"edge3\" class=\"edge\">\n",
       "<title>sim&#45;&gt;sum1</title>\n",
       "<path fill=\"none\" stroke=\"#000000\" d=\"M59.9068,-170.7481C55.9347,-161.5212 51.222,-150.5736 46.7479,-140.1805\"/>\n",
       "<polygon fill=\"#000000\" stroke=\"#000000\" points=\"49.9031,-138.6581 42.7342,-130.857 43.4736,-141.426 49.9031,-138.6581\"/>\n",
       "</g>\n",
       "<!-- sum2 -->\n",
       "<g id=\"node5\" class=\"node\">\n",
       "<title>sum2</title>\n",
       "<ellipse fill=\"none\" stroke=\"#000000\" cx=\"109.5473\" cy=\"-102.5473\" rx=\"30.5947\" ry=\"30.5947\"/>\n",
       "<text text-anchor=\"middle\" x=\"109.5473\" y=\"-98.8473\" font-family=\"Times,serif\" font-size=\"14.00\" fill=\"#000000\">sum2</text>\n",
       "</g>\n",
       "<!-- sim&#45;&gt;sum2 -->\n",
       "<g id=\"edge4\" class=\"edge\">\n",
       "<title>sim&#45;&gt;sum2</title>\n",
       "<path fill=\"none\" stroke=\"#000000\" d=\"M79.4349,-170.7481C83.5443,-161.4409 88.4266,-150.3831 93.0509,-139.9095\"/>\n",
       "<polygon fill=\"#000000\" stroke=\"#000000\" points=\"96.3584,-141.0839 97.1957,-130.5221 89.9548,-138.2565 96.3584,-141.0839\"/>\n",
       "</g>\n",
       "<!-- d -->\n",
       "<g id=\"node6\" class=\"node\">\n",
       "<title>d</title>\n",
       "<ellipse fill=\"none\" stroke=\"#000000\" cx=\"69.5473\" cy=\"-18\" rx=\"18\" ry=\"18\"/>\n",
       "<text text-anchor=\"middle\" x=\"69.5473\" y=\"-14.3\" font-family=\"Times,serif\" font-size=\"14.00\" fill=\"#000000\">d</text>\n",
       "</g>\n",
       "<!-- sum1&#45;&gt;d -->\n",
       "<g id=\"edge5\" class=\"edge\">\n",
       "<title>sum1&#45;&gt;d</title>\n",
       "<path fill=\"none\" stroke=\"#000000\" d=\"M43.5337,-74.3943C48.1205,-64.4506 53.2505,-53.3294 57.7348,-43.6081\"/>\n",
       "<polygon fill=\"#000000\" stroke=\"#000000\" points=\"60.9492,-44.9954 61.9597,-34.4489 54.5929,-42.0633 60.9492,-44.9954\"/>\n",
       "</g>\n",
       "<!-- sum2&#45;&gt;d -->\n",
       "<g id=\"edge6\" class=\"edge\">\n",
       "<title>sum2&#45;&gt;d</title>\n",
       "<path fill=\"none\" stroke=\"#000000\" d=\"M96.4498,-74.8633C91.7334,-64.8944 86.4333,-53.6916 81.7923,-43.8821\"/>\n",
       "<polygon fill=\"#000000\" stroke=\"#000000\" points=\"84.8576,-42.177 77.4172,-34.6344 78.5301,-45.1707 84.8576,-42.177\"/>\n",
       "</g>\n",
       "</g>\n",
       "</svg>\n"
      ],
      "text/plain": [
       "<graphviz.dot.Digraph at 0x7fe727e183d0>"
      ]
     },
     "execution_count": 68,
     "metadata": {},
     "output_type": "execute_result"
    }
   ],
   "source": [
    "elfi.draw(d)"
   ]
  },
  {
   "cell_type": "markdown",
   "metadata": {},
   "source": [
    "### Modelling limitations\n",
    "\n",
    "In the tutorial above, we showed how to build a data generation process at `elfi`. We underlined some crucial directives, mostly on the appropriate handling of the shapes of all tensors. There are though some modelling limitations:\n",
    "\n",
    "* we cannot model a scenario where the observed data are of the form input-output: `x, y` as in many machine learning scenarios\n",
    "* we cannot model the case where we many different observation examples, i.e. `x0` has shape `(N,F)` where `N` is the number of distinct observations. There are workarounds for this case (handling correctly the summary statistics), but the situation is not modelled in a straightforward way"
   ]
  }
 ],
 "metadata": {
  "kernelspec": {
   "display_name": "Python 3",
   "language": "python",
   "name": "python3"
  },
  "language_info": {
   "codemirror_mode": {
    "name": "ipython",
    "version": 3
   },
   "file_extension": ".py",
   "mimetype": "text/x-python",
   "name": "python",
   "nbconvert_exporter": "python",
   "pygments_lexer": "ipython3",
   "version": "3.7.9"
  }
 },
 "nbformat": 4,
 "nbformat_minor": 4
}
